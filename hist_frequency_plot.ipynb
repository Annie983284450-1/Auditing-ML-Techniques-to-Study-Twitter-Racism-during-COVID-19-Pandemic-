{
 "cells": [
  {
   "cell_type": "code",
   "execution_count": 1,
   "metadata": {},
   "outputs": [
    {
     "name": "stdout",
     "output_type": "stream",
     "text": [
      "Requirement already satisfied: wordcloud in c:\\anaconda3\\envs\\gnn_inter\\lib\\site-packages (1.7.0)\n",
      "Requirement already satisfied: numpy>=1.6.1 in c:\\anaconda3\\envs\\gnn_inter\\lib\\site-packages (from wordcloud) (1.18.5)\n",
      "Requirement already satisfied: pillow in c:\\anaconda3\\envs\\gnn_inter\\lib\\site-packages (from wordcloud) (7.1.2)\n",
      "Requirement already satisfied: matplotlib in c:\\anaconda3\\envs\\gnn_inter\\lib\\site-packages (from wordcloud) (3.2.2)\n",
      "Requirement already satisfied: pyparsing!=2.0.4,!=2.1.2,!=2.1.6,>=2.0.1 in c:\\anaconda3\\envs\\gnn_inter\\lib\\site-packages (from matplotlib->wordcloud) (2.4.7)\n",
      "Requirement already satisfied: kiwisolver>=1.0.1 in c:\\anaconda3\\envs\\gnn_inter\\lib\\site-packages (from matplotlib->wordcloud) (1.2.0)\n",
      "Requirement already satisfied: cycler>=0.10 in c:\\anaconda3\\envs\\gnn_inter\\lib\\site-packages (from matplotlib->wordcloud) (0.10.0)\n",
      "Requirement already satisfied: python-dateutil>=2.1 in c:\\anaconda3\\envs\\gnn_inter\\lib\\site-packages (from matplotlib->wordcloud) (2.8.1)\n",
      "Requirement already satisfied: six in c:\\anaconda3\\envs\\gnn_inter\\lib\\site-packages (from cycler>=0.10->matplotlib->wordcloud) (1.15.0)\n"
     ]
    }
   ],
   "source": [
    "!pip install wordcloud"
   ]
  },
  {
   "cell_type": "code",
   "execution_count": 2,
   "metadata": {},
   "outputs": [],
   "source": [
    "import io\n",
    "import random\n",
    "import string\n",
    "import warnings\n",
    "import pandas as pd\n",
    "import numpy as np\n",
    "from sklearn.feature_extraction.text import TfidfVectorizer\n",
    "from sklearn.metrics.pairwise import cosine_similarity\n",
    "import warnings\n",
    "warnings.filterwarnings('ignore')\n",
    "\n",
    "import nltk\n",
    "from nltk.tokenize import sent_tokenize\n",
    "from nltk.corpus import words\n",
    "from nltk.corpus import stopwords\n",
    "from nltk.tokenize import word_tokenize\n",
    "from nltk.stem import WordNetLemmatizer\n",
    "from nltk.stem import PorterStemmer\n",
    "from nltk.sentiment.vader import SentimentIntensityAnalyzer\n",
    "from nltk.sentiment.util import *\n",
    "\n",
    " \n",
    "from sklearn.model_selection import train_test_split\n",
    "from sklearn.feature_extraction.text import TfidfVectorizer\n",
    "from sklearn.naive_bayes import MultinomialNB\n",
    "from sklearn import metrics\n",
    "\n",
    "\n",
    " \n",
    "import re\n",
    "import json\n",
    "import os\n",
    "from collections import Counter\n",
    "import datetime as dt\n",
    "\n",
    "\n",
    " \n",
    "from matplotlib import pyplot as plt\n",
    "from matplotlib import ticker\n",
    "import seaborn as sns\n",
    "from sklearn import feature_extraction, linear_model, model_selection, preprocessing\n",
    "from wordcloud import WordCloud\n",
    "from tqdm import tqdm_notebook\n",
    "\n",
    "\n",
    " \n",
    "import pickle"
   ]
  },
  {
   "cell_type": "code",
   "execution_count": 3,
   "metadata": {},
   "outputs": [
    {
     "name": "stdout",
     "output_type": "stream",
     "text": [
      "C:\\anaconda3\\envs\\gnn_inter\\python.exe\n"
     ]
    }
   ],
   "source": [
    "import sys\n",
    "print(sys.executable)"
   ]
  },
  {
   "cell_type": "code",
   "execution_count": 4,
   "metadata": {},
   "outputs": [
    {
     "data": {
      "text/html": [
       "<div>\n",
       "<style scoped>\n",
       "    .dataframe tbody tr th:only-of-type {\n",
       "        vertical-align: middle;\n",
       "    }\n",
       "\n",
       "    .dataframe tbody tr th {\n",
       "        vertical-align: top;\n",
       "    }\n",
       "\n",
       "    .dataframe thead th {\n",
       "        text-align: right;\n",
       "    }\n",
       "</style>\n",
       "<table border=\"1\" class=\"dataframe\">\n",
       "  <thead>\n",
       "    <tr style=\"text-align: right;\">\n",
       "      <th></th>\n",
       "      <th>status_id</th>\n",
       "      <th>user_id</th>\n",
       "      <th>created_at</th>\n",
       "      <th>screen_name</th>\n",
       "      <th>text</th>\n",
       "      <th>source</th>\n",
       "      <th>reply_to_status_id</th>\n",
       "      <th>reply_to_user_id</th>\n",
       "      <th>reply_to_screen_name</th>\n",
       "      <th>is_quote</th>\n",
       "      <th>...</th>\n",
       "      <th>followers_count</th>\n",
       "      <th>friends_count</th>\n",
       "      <th>account_lang</th>\n",
       "      <th>account_created_at</th>\n",
       "      <th>verified</th>\n",
       "      <th>lang</th>\n",
       "      <th>Hate Probability</th>\n",
       "      <th>Counterhate Probability</th>\n",
       "      <th>Neutral Probability</th>\n",
       "      <th>Label</th>\n",
       "    </tr>\n",
       "  </thead>\n",
       "  <tbody>\n",
       "    <tr>\n",
       "      <th>233370</th>\n",
       "      <td>1256010435641462784</td>\n",
       "      <td>7117302</td>\n",
       "      <td>2020-04-30T23:59:58Z</td>\n",
       "      <td>ozsultan</td>\n",
       "      <td>Dear @NYCMayor,\\n\\nThe city has Millions to sp...</td>\n",
       "      <td>Twitter for iPhone</td>\n",
       "      <td>NaN</td>\n",
       "      <td>NaN</td>\n",
       "      <td>NaN</td>\n",
       "      <td>False</td>\n",
       "      <td>...</td>\n",
       "      <td>8723</td>\n",
       "      <td>7747</td>\n",
       "      <td>NaN</td>\n",
       "      <td>2007-06-27T20:09:29Z</td>\n",
       "      <td>False</td>\n",
       "      <td>en</td>\n",
       "      <td>0.000355</td>\n",
       "      <td>0.019420</td>\n",
       "      <td>0.974462</td>\n",
       "      <td>Neutral</td>\n",
       "    </tr>\n",
       "    <tr>\n",
       "      <th>233371</th>\n",
       "      <td>1256010442876608512</td>\n",
       "      <td>912319950559354880</td>\n",
       "      <td>2020-04-30T23:59:59Z</td>\n",
       "      <td>DriveLockGlobal</td>\n",
       "      <td>In the middle of the #COVID19 sales surge in M...</td>\n",
       "      <td>HubSpot</td>\n",
       "      <td>NaN</td>\n",
       "      <td>NaN</td>\n",
       "      <td>NaN</td>\n",
       "      <td>False</td>\n",
       "      <td>...</td>\n",
       "      <td>365</td>\n",
       "      <td>1333</td>\n",
       "      <td>NaN</td>\n",
       "      <td>2017-09-25T14:16:41Z</td>\n",
       "      <td>False</td>\n",
       "      <td>en</td>\n",
       "      <td>0.000800</td>\n",
       "      <td>0.005312</td>\n",
       "      <td>0.997671</td>\n",
       "      <td>Neutral</td>\n",
       "    </tr>\n",
       "    <tr>\n",
       "      <th>233372</th>\n",
       "      <td>1256010442696245253</td>\n",
       "      <td>18198832</td>\n",
       "      <td>2020-04-30T23:59:59Z</td>\n",
       "      <td>TheScientistLLC</td>\n",
       "      <td>While the lockdown for #COVID19 continues on, ...</td>\n",
       "      <td>HubSpot</td>\n",
       "      <td>NaN</td>\n",
       "      <td>NaN</td>\n",
       "      <td>NaN</td>\n",
       "      <td>False</td>\n",
       "      <td>...</td>\n",
       "      <td>66844</td>\n",
       "      <td>383</td>\n",
       "      <td>NaN</td>\n",
       "      <td>2008-12-17T20:32:46Z</td>\n",
       "      <td>True</td>\n",
       "      <td>en</td>\n",
       "      <td>0.021656</td>\n",
       "      <td>0.000021</td>\n",
       "      <td>0.999820</td>\n",
       "      <td>Neutral</td>\n",
       "    </tr>\n",
       "    <tr>\n",
       "      <th>233373</th>\n",
       "      <td>1256010440154513408</td>\n",
       "      <td>937899468585828352</td>\n",
       "      <td>2020-04-30T23:59:59Z</td>\n",
       "      <td>portarican_RT</td>\n",
       "      <td>Best answer. #COVID19 #WeMournThemAll https://...</td>\n",
       "      <td>Twitter Web App</td>\n",
       "      <td>NaN</td>\n",
       "      <td>NaN</td>\n",
       "      <td>NaN</td>\n",
       "      <td>True</td>\n",
       "      <td>...</td>\n",
       "      <td>5503</td>\n",
       "      <td>5909</td>\n",
       "      <td>NaN</td>\n",
       "      <td>2017-12-05T04:20:33Z</td>\n",
       "      <td>False</td>\n",
       "      <td>en</td>\n",
       "      <td>0.015823</td>\n",
       "      <td>0.099499</td>\n",
       "      <td>0.656869</td>\n",
       "      <td>Neutral</td>\n",
       "    </tr>\n",
       "    <tr>\n",
       "      <th>233374</th>\n",
       "      <td>1256010440007716867</td>\n",
       "      <td>1043656483</td>\n",
       "      <td>2020-04-30T23:59:59Z</td>\n",
       "      <td>Drz123Z</td>\n",
       "      <td>@WFXTMalini @CMichaelGibson @boston25 I had th...</td>\n",
       "      <td>Twitter for iPhone</td>\n",
       "      <td>1.255987e+18</td>\n",
       "      <td>62144220.0</td>\n",
       "      <td>WFXTMalini</td>\n",
       "      <td>False</td>\n",
       "      <td>...</td>\n",
       "      <td>85</td>\n",
       "      <td>127</td>\n",
       "      <td>NaN</td>\n",
       "      <td>2012-12-29T02:35:23Z</td>\n",
       "      <td>False</td>\n",
       "      <td>en</td>\n",
       "      <td>0.056144</td>\n",
       "      <td>0.021127</td>\n",
       "      <td>0.873332</td>\n",
       "      <td>Neutral</td>\n",
       "    </tr>\n",
       "  </tbody>\n",
       "</table>\n",
       "<p>5 rows × 26 columns</p>\n",
       "</div>"
      ],
      "text/plain": [
       "                  status_id             user_id            created_at  \\\n",
       "233370  1256010435641462784             7117302  2020-04-30T23:59:58Z   \n",
       "233371  1256010442876608512  912319950559354880  2020-04-30T23:59:59Z   \n",
       "233372  1256010442696245253            18198832  2020-04-30T23:59:59Z   \n",
       "233373  1256010440154513408  937899468585828352  2020-04-30T23:59:59Z   \n",
       "233374  1256010440007716867          1043656483  2020-04-30T23:59:59Z   \n",
       "\n",
       "            screen_name                                               text  \\\n",
       "233370         ozsultan  Dear @NYCMayor,\\n\\nThe city has Millions to sp...   \n",
       "233371  DriveLockGlobal  In the middle of the #COVID19 sales surge in M...   \n",
       "233372  TheScientistLLC  While the lockdown for #COVID19 continues on, ...   \n",
       "233373    portarican_RT  Best answer. #COVID19 #WeMournThemAll https://...   \n",
       "233374          Drz123Z  @WFXTMalini @CMichaelGibson @boston25 I had th...   \n",
       "\n",
       "                    source  reply_to_status_id  reply_to_user_id  \\\n",
       "233370  Twitter for iPhone                 NaN               NaN   \n",
       "233371             HubSpot                 NaN               NaN   \n",
       "233372             HubSpot                 NaN               NaN   \n",
       "233373     Twitter Web App                 NaN               NaN   \n",
       "233374  Twitter for iPhone        1.255987e+18        62144220.0   \n",
       "\n",
       "       reply_to_screen_name  is_quote  ...  followers_count  friends_count  \\\n",
       "233370                  NaN     False  ...             8723           7747   \n",
       "233371                  NaN     False  ...              365           1333   \n",
       "233372                  NaN     False  ...            66844            383   \n",
       "233373                  NaN      True  ...             5503           5909   \n",
       "233374           WFXTMalini     False  ...               85            127   \n",
       "\n",
       "        account_lang    account_created_at verified lang  Hate Probability  \\\n",
       "233370           NaN  2007-06-27T20:09:29Z    False   en          0.000355   \n",
       "233371           NaN  2017-09-25T14:16:41Z    False   en          0.000800   \n",
       "233372           NaN  2008-12-17T20:32:46Z     True   en          0.021656   \n",
       "233373           NaN  2017-12-05T04:20:33Z    False   en          0.015823   \n",
       "233374           NaN  2012-12-29T02:35:23Z    False   en          0.056144   \n",
       "\n",
       "        Counterhate Probability  Neutral Probability    Label  \n",
       "233370                 0.019420             0.974462  Neutral  \n",
       "233371                 0.005312             0.997671  Neutral  \n",
       "233372                 0.000021             0.999820  Neutral  \n",
       "233373                 0.099499             0.656869  Neutral  \n",
       "233374                 0.021127             0.873332  Neutral  \n",
       "\n",
       "[5 rows x 26 columns]"
      ]
     },
     "execution_count": 4,
     "metadata": {},
     "output_type": "execute_result"
    }
   ],
   "source": [
    "data_dir = 'kaggle-covid-en-tweets-april_classified_claws.tar\\kaggle-covid-en-tweets-april_classified_claws'\n",
    "tweets = []\n",
    "for file in sorted(os.listdir(data_dir)):\n",
    "    tweets.append(pd.read_csv(data_dir + '/' + file, lineterminator = '\\n'))\n",
    "\n",
    "df = pd.concat(tweets)\n",
    "df.tail()"
   ]
  },
  {
   "cell_type": "code",
   "execution_count": 5,
   "metadata": {},
   "outputs": [
    {
     "data": {
      "image/png": "[encoded data removed]",
      "text/plain": [
       "<Figure size 1440x576 with 1 Axes>"
      ]
     },
     "metadata": {
      "needs_background": "light"
     },
     "output_type": "display_data"
    }
   ],
   "source": [
    "fig = plt.figure(figsize=(20,8))\n",
    "ax = fig.add_subplot(111)\n",
    "ax.set(title='Temporal tweet frequency worldwide', xlabel='Time', ylabel='Tweet frequency per hour')\n",
    "plt.hist(pd.to_datetime(df.created_at), bins = 24*9, color = 'b')\n",
    "plt.show()"
   ]
  },
  {
   "cell_type": "code",
   "execution_count": 7,
   "metadata": {},
   "outputs": [
    {
     "data": {
      "text/plain": [
       "0    “People are just storing up. They are staying ...\n",
       "1    .@PatriceHarrisMD spoke with @YahooFinance abo...\n",
       "2    First medical team aiding #Wuhan in fight agai...\n",
       "3    .@KathyGriffin: @realDonaldTrump Is 'Lying' Ab...\n",
       "4    #CoronaUpdate | Johns Hopkins University has s...\n",
       "Name: text, dtype: object"
      ]
     },
     "execution_count": 7,
     "metadata": {},
     "output_type": "execute_result"
    }
   ],
   "source": [
    "text_en = df['text']\n",
    "text_en_lr = text_en.apply(lambda x: re.sub(r\"https\\S+\", \"\", str(x)))\n",
    "text_en_lr.head()"
   ]
  },
  {
   "cell_type": "code",
   "execution_count": 13,
   "metadata": {},
   "outputs": [
    {
     "data": {
      "text/plain": [
       "0    “people are just storing up. they are staying ...\n",
       "1    .@patriceharrismd spoke with @yahoofinance abo...\n",
       "2    first medical team aiding #wuhan in fight agai...\n",
       "3    .@kathygriffin: @realdonaldtrump is 'lying' ab...\n",
       "4    #coronaupdate | johns hopkins university has s...\n",
       "Name: text, dtype: object"
      ]
     },
     "execution_count": 13,
     "metadata": {},
     "output_type": "execute_result"
    }
   ],
   "source": [
    "text_en_lr_lc = text_en_lr.apply(lambda x: x.lower())\n",
    "text_en_lr_lc.head()"
   ]
  },
  {
   "cell_type": "code",
   "execution_count": 9,
   "metadata": {},
   "outputs": [
    {
     "data": {
      "text/plain": [
       "0    “people are just storing up they are staying a...\n",
       "1    patriceharrismd spoke with yahoofinance about ...\n",
       "2    first medical team aiding wuhan in fight again...\n",
       "3    kathygriffin realdonaldtrump is lying about co...\n",
       "4    coronaupdate  johns hopkins university has sai...\n",
       "Name: text, dtype: object"
      ]
     },
     "execution_count": 9,
     "metadata": {},
     "output_type": "execute_result"
    }
   ],
   "source": [
    "text_en_lr_lc_pr = text_en_lr_lc.apply(lambda x: x.translate(str.maketrans('', '', string.punctuation)))\n",
    "text_en_lr_lc_pr.head()"
   ]
  },
  {
   "cell_type": "code",
   "execution_count": 11,
   "metadata": {},
   "outputs": [
    {
     "data": {
      "text/plain": [
       "0    “people storing staying home freezing things t...\n",
       "1    patriceharrismd spoke yahoofinance stimulus pa...\n",
       "2    first medical team aiding wuhan fight epidemic...\n",
       "3      kathygriffin realdonaldtrump lying testing lgbt\n",
       "4    coronaupdate johns hopkins university said aut...\n",
       "Name: text, dtype: object"
      ]
     },
     "execution_count": 11,
     "metadata": {},
     "output_type": "execute_result"
    }
   ],
   "source": [
    "stop_words = set(stopwords.words('english'))\n",
    "stop_words.update(['#coronavirus', '#coronavirusoutbreak', '#coronavirusPandemic', '#covid19', '#covid_19', '#epitwitter', '#ihavecorona', 'amp', 'coronavirus', 'covid19'])\n",
    "\n",
    "text_en_lr_lc_pr_sr = text_en_lr_lc_pr.apply(lambda x: ' '.join([word for word in x.split() if word not in stop_words]))\n",
    "text_en_lr_lc_pr_sr.head()"
   ]
  },
  {
   "cell_type": "code",
   "execution_count": 14,
   "metadata": {},
   "outputs": [
    {
     "data": {
      "text/plain": [
       "['“people', 'storing', 'staying', 'home', 'freezing']"
      ]
     },
     "execution_count": 14,
     "metadata": {},
     "output_type": "execute_result"
    }
   ],
   "source": [
    "word_list = [word for line in text_en_lr_lc_pr_sr for word in line.split()]\n",
    "word_list[:5]"
   ]
  },
  {
   "cell_type": "code",
   "execution_count": 15,
   "metadata": {},
   "outputs": [
    {
     "data": {
      "image/png": "[encoded data removed]",
      "text/plain": [
       "<Figure size 864x864 with 1 Axes>"
      ]
     },
     "metadata": {},
     "output_type": "display_data"
    }
   ],
   "source": [
    "sns.set(style=\"darkgrid\")\n",
    "counts = Counter(word_list).most_common(50)\n",
    "counts_df = pd.DataFrame(counts)\n",
    "counts_df\n",
    "counts_df.columns = ['word', 'frequency']\n",
    "\n",
    "fig, ax = plt.subplots(figsize = (12, 12))\n",
    "ax = sns.barplot(y=\"word\", x='frequency', ax = ax, data=counts_df)\n",
    "plt.savefig('wordcount_bar.png')\n",
    "plt.show()"
   ]
  },
  {
   "cell_type": "code",
   "execution_count": null,
   "metadata": {},
   "outputs": [],
   "source": [
    "sid = SentimentIntensityAnalyzer()\n",
    "sentiment_scores = text_en_lr_lc_pr_sr.apply(lambda x: sid.polarity_scores(x))\n",
    "sent_scores_df = pd.DataFrame(list(sentiment_scores))\n",
    "sent_scores_df.tail()"
   ]
  }
 ],
 "metadata": {
  "kernelspec": {
   "display_name": "Python 3",
   "language": "python",
   "name": "python3"
  },
  "language_info": {
   "codemirror_mode": {
    "name": "ipython",
    "version": 3
   },
   "file_extension": ".py",
   "mimetype": "text/x-python",
   "name": "python",
   "nbconvert_exporter": "python",
   "pygments_lexer": "ipython3",
   "version": "3.7.1"
  }
 },
 "nbformat": 4,
 "nbformat_minor": 4
}
